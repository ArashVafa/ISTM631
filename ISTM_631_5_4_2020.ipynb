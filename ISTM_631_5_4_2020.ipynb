{
  "nbformat": 4,
  "nbformat_minor": 0,
  "metadata": {
    "colab": {
      "name": "ISTM 631 5/4/2020.ipynb",
      "provenance": [],
      "authorship_tag": "ABX9TyOewUskio8dQDIUHhKakajQ",
      "include_colab_link": true
    },
    "kernelspec": {
      "name": "python3",
      "display_name": "Python 3"
    }
  },
  "cells": [
    {
      "cell_type": "markdown",
      "metadata": {
        "id": "view-in-github",
        "colab_type": "text"
      },
      "source": [
        "<a href=\"https://colab.research.google.com/github/ArashVafa/ISTM631/blob/master/ISTM_631_5_4_2020.ipynb\" target=\"_parent\"><img src=\"https://colab.research.google.com/assets/colab-badge.svg\" alt=\"Open In Colab\"/></a>"
      ]
    },
    {
      "cell_type": "markdown",
      "metadata": {
        "id": "zE9qDMu1N8Dp",
        "colab_type": "text"
      },
      "source": [
        "to sign up at GitHub\n",
        "\n",
        "Programming for Bussiness Analytics\n",
        "\n",
        "Write a few lines about Analytics"
      ]
    },
    {
      "cell_type": "markdown",
      "metadata": {
        "id": "3BpyUG-uPY6Y",
        "colab_type": "text"
      },
      "source": [
        "Object Oriented programming language -->"
      ]
    },
    {
      "cell_type": "code",
      "metadata": {
        "id": "XU8NLk8yKdQP",
        "colab_type": "code",
        "outputId": "6aa05bae-2fc2-46c7-f7ca-aae2a99db9f7",
        "colab": {
          "base_uri": "https://localhost:8080/",
          "height": 34
        }
      },
      "source": [
        "# Try your first Python output\n",
        "\n",
        "print('Hello, Python!') "
      ],
      "execution_count": 0,
      "outputs": [
        {
          "output_type": "stream",
          "text": [
            "Hello, Python!\n"
          ],
          "name": "stdout"
        }
      ]
    },
    {
      "cell_type": "markdown",
      "metadata": {
        "id": "JGE7tLLVQ3a6",
        "colab_type": "text"
      },
      "source": [
        "function takes input arguments and return outputs"
      ]
    },
    {
      "cell_type": "code",
      "metadata": {
        "id": "7c2AaBSTRGas",
        "colab_type": "code",
        "outputId": "b5d26cf9-9206-4d14-c41f-360905525e66",
        "colab": {
          "base_uri": "https://localhost:8080/",
          "height": 51
        }
      },
      "source": [
        "# Check the Python Version\n",
        "\n",
        "import sys\n",
        "print(sys.version)"
      ],
      "execution_count": 0,
      "outputs": [
        {
          "output_type": "stream",
          "text": [
            "3.6.9 (default, Nov  7 2019, 10:44:02) \n",
            "[GCC 8.3.0]\n"
          ],
          "name": "stdout"
        }
      ]
    },
    {
      "cell_type": "markdown",
      "metadata": {
        "id": "eabkhi1QRLjs",
        "colab_type": "text"
      },
      "source": [
        "in Python we have modules (library) \n",
        "\n"
      ]
    },
    {
      "cell_type": "code",
      "metadata": {
        "id": "dumWw91zRxNX",
        "colab_type": "code",
        "outputId": "81dec101-a936-47b0-9055-da1fa550b1e3",
        "colab": {
          "base_uri": "https://localhost:8080/",
          "height": 164
        }
      },
      "source": [
        "frint('hello!')"
      ],
      "execution_count": 0,
      "outputs": [
        {
          "output_type": "error",
          "ename": "NameError",
          "evalue": "ignored",
          "traceback": [
            "\u001b[0;31m---------------------------------------------------------------------------\u001b[0m",
            "\u001b[0;31mNameError\u001b[0m                                 Traceback (most recent call last)",
            "\u001b[0;32m<ipython-input-4-e70bab5f0306>\u001b[0m in \u001b[0;36m<module>\u001b[0;34m()\u001b[0m\n\u001b[0;32m----> 1\u001b[0;31m \u001b[0mfrint\u001b[0m\u001b[0;34m(\u001b[0m\u001b[0;34m'hello!'\u001b[0m\u001b[0;34m)\u001b[0m\u001b[0;34m\u001b[0m\u001b[0;34m\u001b[0m\u001b[0m\n\u001b[0m",
            "\u001b[0;31mNameError\u001b[0m: name 'frint' is not defined"
          ]
        }
      ]
    },
    {
      "cell_type": "code",
      "metadata": {
        "id": "IbEiypF9SdB3",
        "colab_type": "code",
        "outputId": "d8a5df36-0822-40dc-a7b1-336c91902ed3",
        "colab": {
          "base_uri": "https://localhost:8080/",
          "height": 215
        }
      },
      "source": [
        "print(\"This will be printed\")\n",
        "frint(\"This will cause an error\")\n",
        "print(\"This will NOT be printed\")"
      ],
      "execution_count": 0,
      "outputs": [
        {
          "output_type": "stream",
          "text": [
            "This will be printed\n"
          ],
          "name": "stdout"
        },
        {
          "output_type": "error",
          "ename": "NameError",
          "evalue": "ignored",
          "traceback": [
            "\u001b[0;31m---------------------------------------------------------------------------\u001b[0m",
            "\u001b[0;31mNameError\u001b[0m                                 Traceback (most recent call last)",
            "\u001b[0;32m<ipython-input-5-aa3f0d14d353>\u001b[0m in \u001b[0;36m<module>\u001b[0;34m()\u001b[0m\n\u001b[1;32m      1\u001b[0m \u001b[0mprint\u001b[0m\u001b[0;34m(\u001b[0m\u001b[0;34m\"This will be printed\"\u001b[0m\u001b[0;34m)\u001b[0m\u001b[0;34m\u001b[0m\u001b[0;34m\u001b[0m\u001b[0m\n\u001b[0;32m----> 2\u001b[0;31m \u001b[0mfrint\u001b[0m\u001b[0;34m(\u001b[0m\u001b[0;34m\"This will cause an error\"\u001b[0m\u001b[0;34m)\u001b[0m\u001b[0;34m\u001b[0m\u001b[0;34m\u001b[0m\u001b[0m\n\u001b[0m\u001b[1;32m      3\u001b[0m \u001b[0mprint\u001b[0m\u001b[0;34m(\u001b[0m\u001b[0;34m\"This will NOT be printed\"\u001b[0m\u001b[0;34m)\u001b[0m\u001b[0;34m\u001b[0m\u001b[0;34m\u001b[0m\u001b[0m\n",
            "\u001b[0;31mNameError\u001b[0m: name 'frint' is not defined"
          ]
        }
      ]
    },
    {
      "cell_type": "markdown",
      "metadata": {
        "id": "SN4_bgmCS3uN",
        "colab_type": "text"
      },
      "source": [
        "Python is an interpreted language as well and not a compliled language\n",
        "\n",
        "find 5 examples of interpreted languages and 5 examples of compiled languages"
      ]
    },
    {
      "cell_type": "markdown",
      "metadata": {
        "id": "zgeeRTTlTjJJ",
        "colab_type": "text"
      },
      "source": [
        "Types of objects in Python\n",
        "\n",
        "![alt text](https://s3-api.us-geo.objectstorage.softlayer.net/cf-courses-data/CognitiveClass/PY0101EN/Chapter%201/Images/TypesObjects.png)"
      ]
    },
    {
      "cell_type": "code",
      "metadata": {
        "id": "UI1w5RKnTya8",
        "colab_type": "code",
        "outputId": "ccd9befd-7cc9-454d-cc73-2672ce1610b0",
        "colab": {
          "base_uri": "https://localhost:8080/",
          "height": 34
        }
      },
      "source": [
        "type(12.0000000000000000)"
      ],
      "execution_count": 0,
      "outputs": [
        {
          "output_type": "execute_result",
          "data": {
            "text/plain": [
              "float"
            ]
          },
          "metadata": {
            "tags": []
          },
          "execution_count": 8
        }
      ]
    },
    {
      "cell_type": "code",
      "metadata": {
        "id": "j_G9LR-yUpPv",
        "colab_type": "code",
        "outputId": "ce46ecef-78de-40e7-f377-e3d7a5ccd089",
        "colab": {
          "base_uri": "https://localhost:8080/",
          "height": 34
        }
      },
      "source": [
        "12/5"
      ],
      "execution_count": 0,
      "outputs": [
        {
          "output_type": "execute_result",
          "data": {
            "text/plain": [
              "2.4"
            ]
          },
          "metadata": {
            "tags": []
          },
          "execution_count": 9
        }
      ]
    },
    {
      "cell_type": "code",
      "metadata": {
        "id": "rZZqPujQVJKj",
        "colab_type": "code",
        "outputId": "418fc031-3a3b-4bb3-a35f-72ba488eb28f",
        "colab": {
          "base_uri": "https://localhost:8080/",
          "height": 34
        }
      },
      "source": [
        "type(float(2))"
      ],
      "execution_count": 0,
      "outputs": [
        {
          "output_type": "execute_result",
          "data": {
            "text/plain": [
              "float"
            ]
          },
          "metadata": {
            "tags": []
          },
          "execution_count": 11
        }
      ]
    },
    {
      "cell_type": "code",
      "metadata": {
        "id": "-qKw28j9WNkv",
        "colab_type": "code",
        "outputId": "39afe1a1-b9f6-42f7-bc0f-63e36e321d3e",
        "colab": {
          "base_uri": "https://localhost:8080/",
          "height": 34
        }
      },
      "source": [
        "type('1')"
      ],
      "execution_count": 0,
      "outputs": [
        {
          "output_type": "execute_result",
          "data": {
            "text/plain": [
              "str"
            ]
          },
          "metadata": {
            "tags": []
          },
          "execution_count": 18
        }
      ]
    },
    {
      "cell_type": "code",
      "metadata": {
        "id": "53kHL8lQVTS6",
        "colab_type": "code",
        "outputId": "429b4bf1-a2f4-4f30-dc10-ec20c21ed10b",
        "colab": {
          "base_uri": "https://localhost:8080/",
          "height": 34
        }
      },
      "source": [
        "type(int('1'))"
      ],
      "execution_count": 0,
      "outputs": [
        {
          "output_type": "execute_result",
          "data": {
            "text/plain": [
              "int"
            ]
          },
          "metadata": {
            "tags": []
          },
          "execution_count": 13
        }
      ]
    },
    {
      "cell_type": "code",
      "metadata": {
        "id": "bTHzaLeFVo6n",
        "colab_type": "code",
        "outputId": "411a1250-2546-4af8-f7ca-99da73d8ee60",
        "colab": {
          "base_uri": "https://localhost:8080/",
          "height": 164
        }
      },
      "source": [
        "type(float('1.0'))"
      ],
      "execution_count": 0,
      "outputs": [
        {
          "output_type": "error",
          "ename": "ValueError",
          "evalue": "ignored",
          "traceback": [
            "\u001b[0;31m---------------------------------------------------------------------------\u001b[0m",
            "\u001b[0;31mValueError\u001b[0m                                Traceback (most recent call last)",
            "\u001b[0;32m<ipython-input-17-0d954415c2f4>\u001b[0m in \u001b[0;36m<module>\u001b[0;34m()\u001b[0m\n\u001b[0;32m----> 1\u001b[0;31m \u001b[0mtype\u001b[0m\u001b[0;34m(\u001b[0m\u001b[0mfloat\u001b[0m\u001b[0;34m(\u001b[0m\u001b[0;34m'1.0D'\u001b[0m\u001b[0;34m)\u001b[0m\u001b[0;34m)\u001b[0m\u001b[0;34m\u001b[0m\u001b[0;34m\u001b[0m\u001b[0m\n\u001b[0m",
            "\u001b[0;31mValueError\u001b[0m: could not convert string to float: '1.0D'"
          ]
        }
      ]
    },
    {
      "cell_type": "code",
      "metadata": {
        "id": "TPkkRYXxWX0Q",
        "colab_type": "code",
        "outputId": "b9bb131a-a116-4892-c2de-9f0be2d283d7",
        "colab": {
          "base_uri": "https://localhost:8080/",
          "height": 34
        }
      },
      "source": [
        "'''type(1)\n",
        "\n",
        "bnm;kl\n",
        "\n",
        "\n",
        "ahkbcnl;ad\n",
        "\n",
        "'''\n",
        "\n"
      ],
      "execution_count": 0,
      "outputs": [
        {
          "output_type": "execute_result",
          "data": {
            "text/plain": [
              "int"
            ]
          },
          "metadata": {
            "tags": []
          },
          "execution_count": 21
        }
      ]
    },
    {
      "cell_type": "markdown",
      "metadata": {
        "id": "aGecVNxeXB6j",
        "colab_type": "text"
      },
      "source": [
        "Boolean variables that take True or False values"
      ]
    },
    {
      "cell_type": "code",
      "metadata": {
        "id": "Pn4ADPksXJzu",
        "colab_type": "code",
        "outputId": "d4723f96-8e9d-4b95-a012-d86b0f33ab6f",
        "colab": {
          "base_uri": "https://localhost:8080/",
          "height": 34
        }
      },
      "source": [
        "type(False)"
      ],
      "execution_count": 0,
      "outputs": [
        {
          "output_type": "execute_result",
          "data": {
            "text/plain": [
              "bool"
            ]
          },
          "metadata": {
            "tags": []
          },
          "execution_count": 22
        }
      ]
    },
    {
      "cell_type": "code",
      "metadata": {
        "id": "mE8bo7IbXYv0",
        "colab_type": "code",
        "outputId": "140cec93-75f4-4381-a0b6-c4ec2a267230",
        "colab": {
          "base_uri": "https://localhost:8080/",
          "height": 34
        }
      },
      "source": [
        "int(True)"
      ],
      "execution_count": 0,
      "outputs": [
        {
          "output_type": "execute_result",
          "data": {
            "text/plain": [
              "1"
            ]
          },
          "metadata": {
            "tags": []
          },
          "execution_count": 23
        }
      ]
    },
    {
      "cell_type": "code",
      "metadata": {
        "id": "9w5j5sSXXk_1",
        "colab_type": "code",
        "outputId": "03d28ac7-0255-4888-9800-10027ce3a465",
        "colab": {
          "base_uri": "https://localhost:8080/",
          "height": 34
        }
      },
      "source": [
        "bool(1)"
      ],
      "execution_count": 0,
      "outputs": [
        {
          "output_type": "execute_result",
          "data": {
            "text/plain": [
              "True"
            ]
          },
          "metadata": {
            "tags": []
          },
          "execution_count": 24
        }
      ]
    },
    {
      "cell_type": "markdown",
      "metadata": {
        "id": "bvGp1p9JX0A3",
        "colab_type": "text"
      },
      "source": [
        "Classification algorithm"
      ]
    },
    {
      "cell_type": "markdown",
      "metadata": {
        "id": "pRPkijfJYD5B",
        "colab_type": "text"
      },
      "source": [
        "Expression and variables\n",
        "\n",
        "\n"
      ]
    },
    {
      "cell_type": "code",
      "metadata": {
        "id": "CIp7hYEOYesa",
        "colab_type": "code",
        "colab": {}
      },
      "source": [
        "43 + 60 + 12 / 5"
      ],
      "execution_count": 0,
      "outputs": []
    },
    {
      "cell_type": "code",
      "metadata": {
        "id": "tUmEtoA1Y3ML",
        "colab_type": "code",
        "outputId": "3c5afed6-50ef-4e68-ac26-e9b342d5470d",
        "colab": {
          "base_uri": "https://localhost:8080/",
          "height": 34
        }
      },
      "source": [
        "#integer division operation \n",
        "\n",
        "14//5"
      ],
      "execution_count": 0,
      "outputs": [
        {
          "output_type": "execute_result",
          "data": {
            "text/plain": [
              "2"
            ]
          },
          "metadata": {
            "tags": []
          },
          "execution_count": 29
        }
      ]
    },
    {
      "cell_type": "markdown",
      "metadata": {
        "id": "JJCSibuMa7zO",
        "colab_type": "text"
      },
      "source": [
        "12 = 5*2 + 2\n",
        "\n",
        "14 = 5*2 + 4"
      ]
    },
    {
      "cell_type": "code",
      "metadata": {
        "id": "7AW4StfkbEwZ",
        "colab_type": "code",
        "outputId": "a7c131a1-edd6-4cdc-b88e-313368e28141",
        "colab": {
          "base_uri": "https://localhost:8080/",
          "height": 34
        }
      },
      "source": [
        "14%5"
      ],
      "execution_count": 0,
      "outputs": [
        {
          "output_type": "execute_result",
          "data": {
            "text/plain": [
              "4"
            ]
          },
          "metadata": {
            "tags": []
          },
          "execution_count": 31
        }
      ]
    },
    {
      "cell_type": "code",
      "metadata": {
        "id": "_rmm0RN0ZKIo",
        "colab_type": "code",
        "colab": {}
      },
      "source": [
        "#variables can store values\n",
        "\n",
        "x = 12"
      ],
      "execution_count": 0,
      "outputs": []
    },
    {
      "cell_type": "code",
      "metadata": {
        "id": "StEdX9C7ZinA",
        "colab_type": "code",
        "outputId": "8abfdaeb-eff3-48a0-c2b9-85fcdf886f23",
        "colab": {
          "base_uri": "https://localhost:8080/",
          "height": 34
        }
      },
      "source": [
        "y = 2*x\n",
        "\n",
        "print(y)"
      ],
      "execution_count": 0,
      "outputs": [
        {
          "output_type": "stream",
          "text": [
            "24\n"
          ],
          "name": "stdout"
        }
      ]
    },
    {
      "cell_type": "markdown",
      "metadata": {
        "id": "fzyIB909bhGI",
        "colab_type": "text"
      },
      "source": [
        "Strings"
      ]
    },
    {
      "cell_type": "code",
      "metadata": {
        "id": "KmuJ0h4dbgjp",
        "colab_type": "code",
        "colab": {}
      },
      "source": [
        "'677yijn~'"
      ],
      "execution_count": 0,
      "outputs": []
    },
    {
      "cell_type": "code",
      "metadata": {
        "id": "jM3xyizAbp0l",
        "colab_type": "code",
        "colab": {}
      },
      "source": [
        "Name = 'Arash Vafanejad'"
      ],
      "execution_count": 0,
      "outputs": []
    },
    {
      "cell_type": "markdown",
      "metadata": {
        "id": "fY3PAfyHbyBb",
        "colab_type": "text"
      },
      "source": [
        "indexing "
      ]
    },
    {
      "cell_type": "code",
      "metadata": {
        "id": "KOlhI_Efb9As",
        "colab_type": "code",
        "outputId": "0e7258c8-00d6-451c-9528-f7acac0e59ea",
        "colab": {
          "base_uri": "https://localhost:8080/",
          "height": 34
        }
      },
      "source": [
        "print(Name[5])"
      ],
      "execution_count": 0,
      "outputs": [
        {
          "output_type": "stream",
          "text": [
            " \n"
          ],
          "name": "stdout"
        }
      ]
    },
    {
      "cell_type": "code",
      "metadata": {
        "id": "yZ99n7fHcrL6",
        "colab_type": "code",
        "outputId": "5987180a-6669-420e-f1f7-5be039440336",
        "colab": {
          "base_uri": "https://localhost:8080/",
          "height": 34
        }
      },
      "source": [
        "len(Name)"
      ],
      "execution_count": 0,
      "outputs": [
        {
          "output_type": "execute_result",
          "data": {
            "text/plain": [
              "15"
            ]
          },
          "metadata": {
            "tags": []
          },
          "execution_count": 39
        }
      ]
    },
    {
      "cell_type": "markdown",
      "metadata": {
        "id": "2xcQAJdGdM9P",
        "colab_type": "text"
      },
      "source": [
        "Slicing"
      ]
    },
    {
      "cell_type": "code",
      "metadata": {
        "id": "rulOBz24dQhD",
        "colab_type": "code",
        "outputId": "3370d21c-7a3d-404b-f73b-6830891ac469",
        "colab": {
          "base_uri": "https://localhost:8080/",
          "height": 34
        }
      },
      "source": [
        "Name[0:4]"
      ],
      "execution_count": 0,
      "outputs": [
        {
          "output_type": "execute_result",
          "data": {
            "text/plain": [
              "'Aras'"
            ]
          },
          "metadata": {
            "tags": []
          },
          "execution_count": 42
        }
      ]
    },
    {
      "cell_type": "code",
      "metadata": {
        "id": "BMz3_jK6eIuV",
        "colab_type": "code",
        "outputId": "703b202c-1b87-4c8d-e6c5-78103ae9d0bf",
        "colab": {
          "base_uri": "https://localhost:8080/",
          "height": 34
        }
      },
      "source": [
        "Name[0:12]"
      ],
      "execution_count": 0,
      "outputs": [
        {
          "output_type": "execute_result",
          "data": {
            "text/plain": [
              "'Arash Vafane'"
            ]
          },
          "metadata": {
            "tags": []
          },
          "execution_count": 45
        }
      ]
    },
    {
      "cell_type": "markdown",
      "metadata": {
        "id": "r6fa71lsdYDL",
        "colab_type": "text"
      },
      "source": [
        "Stride"
      ]
    },
    {
      "cell_type": "code",
      "metadata": {
        "id": "Ky75pkSkdjjh",
        "colab_type": "code",
        "outputId": "eff06a32-6163-4f9f-9375-c766a55a365c",
        "colab": {
          "base_uri": "https://localhost:8080/",
          "height": 34
        }
      },
      "source": [
        "Name[::2]"
      ],
      "execution_count": 0,
      "outputs": [
        {
          "output_type": "execute_result",
          "data": {
            "text/plain": [
              "'AahVfnjd'"
            ]
          },
          "metadata": {
            "tags": []
          },
          "execution_count": 43
        }
      ]
    },
    {
      "cell_type": "code",
      "metadata": {
        "id": "D_p8SfqGdtqY",
        "colab_type": "code",
        "outputId": "294000cb-9134-4461-fdc1-3d9db909e255",
        "colab": {
          "base_uri": "https://localhost:8080/",
          "height": 34
        }
      },
      "source": [
        "Name[0:12:2]"
      ],
      "execution_count": 0,
      "outputs": [
        {
          "output_type": "execute_result",
          "data": {
            "text/plain": [
              "'AahVfn'"
            ]
          },
          "metadata": {
            "tags": []
          },
          "execution_count": 44
        }
      ]
    },
    {
      "cell_type": "markdown",
      "metadata": {
        "id": "5zVYnDTmeVqk",
        "colab_type": "text"
      },
      "source": [
        "Combine or Concatenate"
      ]
    },
    {
      "cell_type": "code",
      "metadata": {
        "id": "Oju2Gz8zebDW",
        "colab_type": "code",
        "outputId": "6f4424e3-2efb-4148-a888-88b47ec24547",
        "colab": {
          "base_uri": "https://localhost:8080/",
          "height": 34
        }
      },
      "source": [
        "sattement = Name + 12*' ' + ' is here'\n",
        "\n",
        "print(sattement)"
      ],
      "execution_count": 0,
      "outputs": [
        {
          "output_type": "stream",
          "text": [
            "Arash Vafanejad             is here\n"
          ],
          "name": "stdout"
        }
      ]
    },
    {
      "cell_type": "code",
      "metadata": {
        "id": "aFbWpKD2ezQ0",
        "colab_type": "code",
        "outputId": "c7acaa3b-668a-4789-8b05-cdcec87d98f7",
        "colab": {
          "base_uri": "https://localhost:8080/",
          "height": 34
        }
      },
      "source": [
        "3*Name"
      ],
      "execution_count": 0,
      "outputs": [
        {
          "output_type": "execute_result",
          "data": {
            "text/plain": [
              "'Arash VafanejadArash VafanejadArash Vafanejad'"
            ]
          },
          "metadata": {
            "tags": []
          },
          "execution_count": 50
        }
      ]
    },
    {
      "cell_type": "markdown",
      "metadata": {
        "id": "cgdZYQlKe-hE",
        "colab_type": "text"
      },
      "source": [
        "Escape Sequencee"
      ]
    },
    {
      "cell_type": "code",
      "metadata": {
        "id": "FvtYrrqmfTCU",
        "colab_type": "code",
        "outputId": "6117b669-d30c-4513-88e8-9792a04815a4",
        "colab": {
          "base_uri": "https://localhost:8080/",
          "height": 51
        }
      },
      "source": [
        "print('Arash\\n is here')"
      ],
      "execution_count": 0,
      "outputs": [
        {
          "output_type": "stream",
          "text": [
            "Arash\n",
            " is here\n"
          ],
          "name": "stdout"
        }
      ]
    },
    {
      "cell_type": "code",
      "metadata": {
        "id": "EHwRyexWfci9",
        "colab_type": "code",
        "outputId": "611dae82-04c2-4968-d633-84cbcae0a818",
        "colab": {
          "base_uri": "https://localhost:8080/",
          "height": 34
        }
      },
      "source": [
        "print('Arash\\t is here')"
      ],
      "execution_count": 0,
      "outputs": [
        {
          "output_type": "stream",
          "text": [
            "Arash\t is here\n"
          ],
          "name": "stdout"
        }
      ]
    },
    {
      "cell_type": "code",
      "metadata": {
        "id": "Fdbj7Og4fgYV",
        "colab_type": "code",
        "outputId": "d0877efc-2ce8-44d9-b63d-09be09e4c1fe",
        "colab": {
          "base_uri": "https://localhost:8080/",
          "height": 34
        }
      },
      "source": [
        "print('Arash \\\\ is here')"
      ],
      "execution_count": 0,
      "outputs": [
        {
          "output_type": "stream",
          "text": [
            "Arash \\ is here\n"
          ],
          "name": "stdout"
        }
      ]
    },
    {
      "cell_type": "code",
      "metadata": {
        "id": "pRlgVP2-fyGD",
        "colab_type": "code",
        "outputId": "83a4b7bf-47d2-428d-803f-4d4137e88cb5",
        "colab": {
          "base_uri": "https://localhost:8080/",
          "height": 34
        }
      },
      "source": [
        "print(r'Arash \\\\ is here')"
      ],
      "execution_count": 0,
      "outputs": [
        {
          "output_type": "stream",
          "text": [
            "Arash \\\\ is here\n"
          ],
          "name": "stdout"
        }
      ]
    }
  ]
}